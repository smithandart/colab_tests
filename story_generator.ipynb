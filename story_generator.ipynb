{
  "nbformat": 4,
  "nbformat_minor": 0,
  "metadata": {
    "colab": {
      "provenance": [],
      "authorship_tag": "ABX9TyPo/aTRB7xsktJwjcu903Xq",
      "include_colab_link": true
    },
    "kernelspec": {
      "name": "python3",
      "display_name": "Python 3"
    },
    "language_info": {
      "name": "python"
    }
  },
  "cells": [
    {
      "cell_type": "markdown",
      "metadata": {
        "id": "view-in-github",
        "colab_type": "text"
      },
      "source": [
        "<a href=\"https://colab.research.google.com/github/smithandart/colab_tests/blob/main/story_generator.ipynb\" target=\"_parent\"><img src=\"https://colab.research.google.com/assets/colab-badge.svg\" alt=\"Open In Colab\"/></a>"
      ]
    },
    {
      "cell_type": "code",
      "source": [
        "import google.generativeai as genai\n",
        "from google.colab import userdata\n",
        "\n",
        "\n",
        "# Load API Key\n",
        "API_KEY = userdata.get('GOOGLE_API_KEY')\n",
        "\n",
        "# Check for API Key\n",
        "if not API_KEY:\n",
        "  raise ValueError(\"Google API Key not found. Add API Key to Colab's Secrets as GOOGLE_API_KEY.\")\n",
        "\n",
        "# Configure API Key\n",
        "genai.configure(api_key=API_KEY)\n",
        "\n",
        "# Select model\n",
        "model = genai.GenerativeModel('gemini-2.5-pro')\n",
        "\n",
        "\"\"\"\n",
        "Generates a short story based on the given character, setting, and genre.\n",
        "\"\"\"\n",
        "def generate_story(character, setting, genre):\n",
        "  prompt = f\"Write a short, exciting story about a {character} in a {setting}. The story should be in the {genre} genre.\"\n",
        "\n",
        "  try:\n",
        "    response = model.generate_content(prompt)\n",
        "    story_text = response.text\n",
        "    return story_text\n",
        "  except Exception as e:\n",
        "    return f\"An error occurred while generating the story: {e}\"\n"
      ],
      "metadata": {
        "id": "wzI1xEgyTW0x"
      },
      "execution_count": 2,
      "outputs": []
    },
    {
      "cell_type": "code",
      "source": [
        "print(\"Welcome to the Simple Story Generator!\\nLet's create a short story together.\")\n",
        "print('-----')\n",
        "user_character = input('Who is the main character of your story?\\n(e.g., a brave knight, a mischievous cat, a curious scientist): ')\n",
        "print('-----')\n",
        "user_setting = input('Where does the story take place?\\n(e.g., a magical forest, a futuristic city, an old dusty library): ')\n",
        "print('-----')\n",
        "user_genre = input('What kind of story do you want?\\n(e.g., adventure, mystery, fantasy, sci-fi, comedy): ')\n",
        "print('-----')"
      ],
      "metadata": {
        "colab": {
          "base_uri": "https://localhost:8080/"
        },
        "id": "VcIIQ9pee4xX",
        "outputId": "3e9c5e36-6007-40d1-e3ed-7240e85d613d"
      },
      "execution_count": 1,
      "outputs": [
        {
          "output_type": "stream",
          "name": "stdout",
          "text": [
            "Welcome to the Simple Story Generator!\n",
            "Let's create a short story together.\n",
            "-----\n",
            "Who is the main character of your story?\n",
            "(e.g., a brave knight, a mischievous cat, a curious scientist): cowardly bandit\n",
            "-----\n",
            "Where does the story take place?\n",
            "(e.g., a magical forest, a futuristic city, an old dusty library): haunted mansion\n",
            "-----\n",
            "What kind of story do you want?\n",
            "(e.g., adventure, mystery, fantasy, sci-fi, comedy): comedy\n",
            "-----\n"
          ]
        }
      ]
    },
    {
      "cell_type": "code",
      "source": [
        "print('\\nGenerating your story...\\n')\n",
        "story = generate_story(user_character, user_setting, user_genre)\n",
        "print('--- Your Story ---')\n",
        "print(story)\n",
        "print('---------------')"
      ],
      "metadata": {
        "colab": {
          "base_uri": "https://localhost:8080/",
          "height": 974
        },
        "id": "bq-A5Vmehp5Z",
        "outputId": "bd110df5-3b73-487f-e962-52f4312b2ca0"
      },
      "execution_count": 3,
      "outputs": [
        {
          "output_type": "stream",
          "name": "stdout",
          "text": [
            "\n",
            "Generating your story...\n",
            "\n",
            "--- Your Story ---\n",
            "Barnaby “The Blade” Buttercup was, by all accounts except his own, a terrible bandit. His nickname was a masterpiece of accidental irony, earned not from knife-wielding prowess but from once tripping over a garden trowel during a bungled turnip heist. Nevertheless, his wanted poster, featuring a particularly menacing scowl he’d been practicing, looked impressive enough to land him the big jobs. His current big job: Blackwood Manor.\n",
            "\n",
            "The manor loomed against the moonlit sky like a rotten tooth. It was said to be haunted, a fact that made Barnaby’s knees tremble so violently they could churn butter. But inside, rumour had it, was the legendary Blackwood Sapphire, a gem the size of a goose egg. Greed, Barnaby decided, was a slightly better motivator than fear. Slightly.\n",
            "\n",
            "He jimmied a window with a butter knife (his lockpicks were at home, holding up a wobbly table leg) and tumbled inside, landing with a soft *thump* on a plush rug. The air was colder than a witch's handshake. Every shadow seemed to writhe.\n",
            "\n",
            "\"Okay, Barnaby,\" he whispered to himself, his voice a squeak. \"You are a fearsome rogue. A shadow in the night. A... a very quiet man looking for a blue rock.\"\n",
            "\n",
            "His first obstacle was a long hallway lined with suits of armor. He tiptoed past, holding his breath, certain they were watching him. One of them, he could have sworn, shifted its metal gauntlet to scratch its helmet. Barnaby froze, his heart trying to escape through his throat. He waited. A full minute passed. Nothing.\n",
            "\n",
            "*Just the wind,* he told himself, though there wasn't a draft. *A rusty, helmet-scratching wind.*\n",
            "\n",
            "He found the grand library, where a portrait of a stern-looking woman with a monacle, Lady Elspeth Blackwood, hung over the fireplace. As Barnaby crept by, her painted eyes followed him. He stopped. He shuffled to the left. The eyes followed. He shuffled to the right. The eyes followed. He did a frantic little jig. The eyes seemed to roll in exasperation.\n",
            "\n",
            "A ghostly whisper slithered from the walls. *\"Whooo left the crypt door open?\"*\n",
            "\n",
            "Barnaby yelped and dove behind a fainting couch, which seemed appropriate. \"Not me!\" he squeaked. \"I use windows!\"\n",
            "\n",
            "Another, more irritated whisper answered the first. *\"Honestly, Alistair, I've told you a thousand times. It's your turn to check.\"*\n",
            "\n",
            "Barnaby peeked over the couch. This was less a haunting and more a supernatural domestic dispute. Feeling slightly bolder, he continued his search, his confidence growing with every non-lethal paranormal event. A spectral bloodstain appeared on the floor, only to be immediately scrubbed away by a phantom mop. A mournful piano melody started, then abruptly stopped as a ghostly voice grumbled, *\"Oh, fiddlesticks, I forgot the bridge again.\"*\n",
            "\n",
            "He finally found it: a heavy iron safe, tucked behind a tapestry depicting a surprisingly cheerful unicorn battle. This was it. The sapphire. The glory. The end of his turnip-stealing days. He got to work, his fingers surprisingly nimble. The tumblers clicked. The heavy door swung open.\n",
            "\n",
            "And there it was. The Blackwood Sapphire, glittering with an inner blue fire. It was magnificent.\n",
            "\n",
            "As his trembling fingers reached for it, an icy chill filled the room. The temperature plummeted. A figure began to coalesce beside him—a shimmering, translucent woman in a Victorian gown, her face a mask of sorrow. It was the infamous Weeping Bride of Blackwood Manor.\n",
            "\n",
            "Barnaby screamed. It was a high-pitched, glass-shattering shriek that would have made a banshee proud. He scrambled backward, crab-walking into a bookshelf.\n",
            "\n",
            "The ghostly bride drifted closer, her hands outstretched, a sob echoing in the spectral silence. Barnaby squeezed his eyes shut, preparing for the icy touch of death.\n",
            "\n",
            "\"Oh, thank heavens, you're here!\" the ghost wailed.\n",
            "\n",
            "Barnaby opened one eye. \"...What?\"\n",
            "\n",
            "\"I've been so terribly lonely,\" she sobbed, floating an inch from his nose. \"And I simply *cannot* decide. Do you think this gown makes my hips look wide?\" She did a slow, ethereal twirl. \"Be honest.\"\n",
            "\n",
            "Barnaby stared, his mind a frantic, confused mess. He was being accosted by a fashion-conscious apparition.\n",
            "\n",
            "\"Uh...\" he stammered, looking at her translucent waistline. \"No? It's... very slimming?\"\n",
            "\n",
            "The ghost beamed, her sorrow vanishing instantly. \"Oh, you are just the *sweetest* cat burglar! I knew it! Alistair said I looked like a floating bell.\" She leaned in conspiratorially. \"He has no taste. Now, about that sapphire... it clashes horribly with my complexion, don't you think?\"\n",
            "\n",
            "Before Barnaby could answer, she plucked the sapphire from the safe. \"Here, take it! It'll just sit there collecting ectoplasm.\" She shoved the cold, heavy gem into his hands. \"Now, off you go! And tell your bandit friends that Lady Beatrice gives excellent fashion advice!\"\n",
            "\n",
            "Barnaby didn't need telling twice. Clutching the sapphire, he sprinted out of the library, past the bickering ghosts in the hall, and shot past the suit of armor, which offered him a polite, metallic wave. He launched himself out the window and didn't stop running until the sun came up.\n",
            "\n",
            "Barnaby \"The Blade\" Buttercup became a legend, the only bandit to ever successfully rob Blackwood Manor. He never told anyone that the mansion's greatest terror wasn't its ghosts, but their cripplingly poor interior decorating choices and desperate need for a second opinion.\n",
            "---------------\n"
          ]
        }
      ]
    }
  ]
}